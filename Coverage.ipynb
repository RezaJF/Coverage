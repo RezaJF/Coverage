{
 "cells": [
  {
   "cell_type": "code",
   "execution_count": 1,
   "metadata": {
    "collapsed": false
   },
   "outputs": [
    {
     "name": "stderr",
     "output_type": "stream",
     "text": [
      "/Users/Reza/anaconda/lib/python2.7/site-packages/pandas/computation/__init__.py:19: UserWarning: The installed version of numexpr 2.4.4 is not supported in pandas and will be not be used\n",
      "\n",
      "  UserWarning)\n",
      "/Users/Reza/anaconda/lib/python2.7/site-packages/mpltools/style/__init__.py:42: FutureWarning: \n",
      "\n",
      "    The style-sheet functionality in mpltools has been integrated into\n",
      "    Matplotlib >= 1.4. This module will be removed in a future release.\n",
      "\n",
      "    Note that style-sheets used by `matplotlib.style` use the standard\n",
      "    Matplotlib rc-file syntax instead of the INI format used by `mpltools`.\n",
      "    This mostly means un-quoting strings and changing '=' to ':'.\n",
      "\n",
      "\n",
      "  \"\"\", FutureWarning)\n",
      "/Users/Reza/anaconda/lib/python2.7/site-packages/matplotlib/__init__.py:872: UserWarning: axes.color_cycle is deprecated and replaced with axes.prop_cycle; please use the latter.\n",
      "  warnings.warn(self.msg_depr % (key, alt_key))\n"
     ]
    }
   ],
   "source": [
    "from __future__ import division\n",
    "import os\n",
    "import sys\n",
    "import time\n",
    "import numpy as np\n",
    "import pybedtools\n",
    "import pandas as pd\n",
    "import matplotlib as mpl\n",
    "mpl.use('Agg')\n",
    "import matplotlib.pyplot as plt\n",
    "import matplotlib.cm as cm\n",
    "from matplotlib.ticker import MaxNLocator\n",
    "from matplotlib import rcParams\n",
    "from matplotlib import colors\n",
    "from mpltools import style\n",
    "import mpld3\n",
    "import matplotlib.gridspec as gridspec\n",
    "import scipy.spatial.distance as distance\n",
    "import scipy.cluster.hierarchy as sch\n",
    "import seaborn as sns\n",
    "\n",
    "style.use('ggplot')\n",
    "\n",
    "my_locator = MaxNLocator(6)\n",
    "rcParams['axes.labelsize'] = 9\n",
    "rcParams['xtick.labelsize'] = 9\n",
    "rcParams['ytick.labelsize'] = 9\n",
    "rcParams['legend.fontsize'] = 7\n",
    "rcParams['font.serif'] = ['Computer Modern Roman']\n",
    "rcParams['text.usetex'] = False\n",
    "rcParams['figure.figsize'] = 20, 10"
   ]
  },
  {
   "cell_type": "code",
   "execution_count": 2,
   "metadata": {
    "collapsed": false
   },
   "outputs": [],
   "source": [
    "class targeted(object):\n",
    "\n",
    "    def __init__(self, list_of_bam_files, region_file, outdir, labels):\n",
    "        self.list_of_bam_files = list_of_bam_files\n",
    "        self.region_file = region_file\n",
    "        self.outdir = outdir\n",
    "        self.labels = labels\n",
    "        \n",
    "    def warning(self):\n",
    "        N = len(self.list_of_bam_files)\n",
    "        if N >= 10:\n",
    "            print u\"\\u2601\" + \" You are generating plots for \" + str(N) + \" bam files, some plots will be really really ugly !\"\n",
    "    \n",
    "    def get_coverage(self, list_of_bam_files):\n",
    "        \"\"\"\n",
    "        Get coverage from a BAM file,  by looking only inside the regions provided by the region_file\n",
    "        This function is wrapping the coberageBed from BedTools with no histogram creation\n",
    "\n",
    "        What to test ?:\n",
    "\n",
    "        if alignment is empty\n",
    "        if region file is empty\n",
    "        if coverage_result is empty\n",
    "\n",
    "        \"\"\"\n",
    "        alignment = pybedtools.BedTool(list_of_bam_files)\n",
    "        regions = pybedtools.BedTool(self.region_file)\n",
    "        print 'Calculating coverage over regions ...'\n",
    "        sys.stdout.flush()\n",
    "        t0 = time.time()\n",
    "        coverage_result = alignment.coverage(regions).sort()\n",
    "        coverage_array = np.array([i[-1] for i in coverage_result], dtype=int)\n",
    "\n",
    "        t1 = time.time()\n",
    "        print 'completed in %.2fs' % (t1 - t0)\n",
    "        sys.stdout.flush()\n",
    "        return coverage_array\n",
    "\n",
    "    @staticmethod\n",
    "    def split_coverage(x):\n",
    "\n",
    "        if isinstance(x, basestring):\n",
    "            fn = x\n",
    "        else:\n",
    "            fn = x.fn\n",
    "\n",
    "        f = open(fn)\n",
    "        hist_lines = []\n",
    "\n",
    "        def gen():\n",
    "\n",
    "            while True:\n",
    "                line = f.next()\n",
    "                toks = line.strip().split('\\t')\n",
    "                if toks[0] == 'all':\n",
    "                    # Don't need to include the \"all\" text in the first field.\n",
    "                    hist_lines.append(toks[1:])\n",
    "                    break\n",
    "                yield pybedtools.create_interval_from_list(toks)\n",
    "\n",
    "    # Create a BedTool from the generator, and call `saveas` to consume the\n",
    "    # generator.  We need this so that the file pointer will stop right after\n",
    "    # the first \"all\" line.\n",
    "        b = pybedtools.BedTool(gen()).saveas()\n",
    "\n",
    "    # Pick up where we left off in the open file, appending to hist_lines.\n",
    "        while True:\n",
    "            try:\n",
    "                line = f.next()\n",
    "            except StopIteration:\n",
    "                break\n",
    "            hist_lines.append(line.strip().split('\\t')[1:])\n",
    "\n",
    "        df = pd.DataFrame(\n",
    "            hist_lines,\n",
    "            columns=['depth', 'count', 'size', 'percent'])\n",
    "        return b, df\n",
    "\n",
    "    def get_coverage_histogram(self, bam_file, outfile):\n",
    "\n",
    "        alignment = pybedtools.BedTool(bam_file)\n",
    "        regions = pybedtools.BedTool(self.region_file)\n",
    "        coverage = alignment.coverage(regions, hist=True, output=outfile)\n",
    "        # Now get the coverage and the all histogram\n",
    "        coverage_histogram, all_histogram = self.split_coverage(coverage)\n",
    "\n",
    "        for _ in coverage_histogram:\n",
    "            pass\n",
    "\n",
    "        return coverage_histogram, all_histogram\n",
    "\n",
    "    def plot_coverage_heatmap(self, heatmap_name):\n",
    "\n",
    "        region = pybedtools.BedTool(self.region_file)\n",
    "        result = region.multi_bam_coverage(bams=self.list_of_bam_files, output=os.path.join(self.outdir, \"multicoverage.hist.txt\"))\n",
    "        coverage_df = pd.read_table(result.fn, header=None)\n",
    "        ncols = coverage_df.shape[1]\n",
    "        data = coverage_df[list(coverage_df.columns[3:ncols])].astype(int)\n",
    "        # Set columns\n",
    "        data.columns = self.labels\n",
    "        # Set index\n",
    "        data_index = [str(chrom) + \":\" + str(start) + \"--\" + str(end) for chrom, start, end in zip(list(coverage_df[coverage_df.columns[0]]), list(coverage_df[coverage_df.columns[1]]), list(coverage_df[coverage_df.columns[2]]))]\n",
    "        data['coordinates'] = data_index\n",
    "        data = data.set_index('coordinates')\n",
    "        fig = plt.figure()\n",
    "        sns.heatmap(data, square=False, annot=True, fmt=\"d\",  annot_kws={\"size\": 5})\n",
    "        plt.xticks(rotation=90, fontsize=5)\n",
    "        plt.yticks(fontsize=5)\n",
    "        plt.title(\"Coverage within amplicon regions\")\n",
    "        plt.ylabel(\"amplicon regions\")\n",
    "        plt.xlabel(\"samples\")\n",
    "        fig.tight_layout()\n",
    "        fig.savefig(os.path.join(self.outdir, heatmap_name))"
   ]
  },
  {
   "cell_type": "code",
   "execution_count": 8,
   "metadata": {
    "collapsed": false
   },
   "outputs": [
    {
     "ename": "ImportError",
     "evalue": "No module named targeted_sequencing_analytics_suite",
     "output_type": "error",
     "traceback": [
      "\u001b[0;31m---------------------------------------------------------------------------\u001b[0m",
      "\u001b[0;31mImportError\u001b[0m                               Traceback (most recent call last)",
      "\u001b[0;32m<ipython-input-8-586fb739916e>\u001b[0m in \u001b[0;36m<module>\u001b[0;34m()\u001b[0m\n\u001b[1;32m      1\u001b[0m \u001b[0;32mimport\u001b[0m \u001b[0margparse\u001b[0m\u001b[0;34m\u001b[0m\u001b[0m\n\u001b[1;32m      2\u001b[0m \u001b[0;32mimport\u001b[0m \u001b[0mos\u001b[0m\u001b[0;34m\u001b[0m\u001b[0m\n\u001b[0;32m----> 3\u001b[0;31m \u001b[0;32mfrom\u001b[0m \u001b[0mtargeted_sequencing_analytics_suite\u001b[0m \u001b[0;32mimport\u001b[0m \u001b[0mtsa\u001b[0m\u001b[0;34m\u001b[0m\u001b[0m\n\u001b[0m\u001b[1;32m      4\u001b[0m \u001b[0;34m\u001b[0m\u001b[0m\n\u001b[1;32m      5\u001b[0m \u001b[0;34m\u001b[0m\u001b[0m\n",
      "\u001b[0;31mImportError\u001b[0m: No module named targeted_sequencing_analytics_suite"
     ]
    }
   ],
   "source": [
    "import argparse\n",
    "import os\n",
    "from targeted_sequencing_analytics_suite import tsa\n",
    "\n",
    "\n",
    "parser = argparse.ArgumentParser(description='Process different bam files and output plots on coverage and enrichment')\n",
    "\n",
    "parser.add_argument('--path_to_bams',\n",
    "                    help='''Path to bam files, sorted and indexed.''')\n",
    "parser.add_argument('--targets',\n",
    "                    help='''File containing amplicon regions in Bed format''')\n",
    "parser.add_argument('--variant_status_path',\n",
    "                    help='''Path to binomial test result files (tsv files)''')\n",
    "parser.add_argument('--bam_extension',\n",
    "                    help='''Extension of the alignments''')\n",
    "parser.add_argument('--outdir',\n",
    "                    help='''directory to save all different plots''')\n",
    "parser.add_argument('--custom_order', required=False,\n",
    "                    help='''order of the samples we want to display''' )\n",
    "\n",
    "args = parser.parse_args()"
   ]
  },
  {
   "cell_type": "code",
   "execution_count": 3,
   "metadata": {
    "collapsed": false
   },
   "outputs": [],
   "source": [
    "from pathlib import Path\n",
    "DATA_DIR = Path('/Users/Reza/GitHub/TruSight_one_BED')"
   ]
  },
  {
   "cell_type": "code",
   "execution_count": 6,
   "metadata": {
    "collapsed": false
   },
   "outputs": [],
   "source": [
    "list_of_bam_files=[DATA_DIR/\"CL021-336.GATK.recal.bam\"]\n",
    "region_file= DATA_DIR/\"TruSight_One_v1.1.bed\"\n",
    "cl021=targeted(list_of_bam_files,\n",
    "               region_file,\n",
    "               \"/Users/Reza/Github/getTruSight_one_BED\",\n",
    "               \"CL021\")"
   ]
  },
  {
   "cell_type": "code",
   "execution_count": 7,
   "metadata": {
    "collapsed": false
   },
   "outputs": [
    {
     "ename": "TypeError",
     "evalue": "'PosixPath' object is not iterable",
     "output_type": "error",
     "traceback": [
      "\u001b[0;31m---------------------------------------------------------------------------\u001b[0m",
      "\u001b[0;31mTypeError\u001b[0m                                 Traceback (most recent call last)",
      "\u001b[0;32m<ipython-input-7-f2d4ee03830f>\u001b[0m in \u001b[0;36m<module>\u001b[0;34m()\u001b[0m\n\u001b[0;32m----> 1\u001b[0;31m \u001b[0mcl021\u001b[0m\u001b[0;34m.\u001b[0m\u001b[0mget_coverage\u001b[0m\u001b[0;34m(\u001b[0m\u001b[0mlist_of_bam_files\u001b[0m\u001b[0;34m)\u001b[0m\u001b[0;34m\u001b[0m\u001b[0m\n\u001b[0m",
      "\u001b[0;32m<ipython-input-2-07840411d5eb>\u001b[0m in \u001b[0;36mget_coverage\u001b[0;34m(self, list_of_bam_files)\u001b[0m\n\u001b[1;32m     24\u001b[0m \u001b[0;34m\u001b[0m\u001b[0m\n\u001b[1;32m     25\u001b[0m         \"\"\"\n\u001b[0;32m---> 26\u001b[0;31m         \u001b[0malignment\u001b[0m \u001b[0;34m=\u001b[0m \u001b[0mpybedtools\u001b[0m\u001b[0;34m.\u001b[0m\u001b[0mBedTool\u001b[0m\u001b[0;34m(\u001b[0m\u001b[0mlist_of_bam_files\u001b[0m\u001b[0;34m)\u001b[0m\u001b[0;34m\u001b[0m\u001b[0m\n\u001b[0m\u001b[1;32m     27\u001b[0m         \u001b[0mregions\u001b[0m \u001b[0;34m=\u001b[0m \u001b[0mpybedtools\u001b[0m\u001b[0;34m.\u001b[0m\u001b[0mBedTool\u001b[0m\u001b[0;34m(\u001b[0m\u001b[0mself\u001b[0m\u001b[0;34m.\u001b[0m\u001b[0mregion_file\u001b[0m\u001b[0;34m)\u001b[0m\u001b[0;34m\u001b[0m\u001b[0m\n\u001b[1;32m     28\u001b[0m         \u001b[0;32mprint\u001b[0m \u001b[0;34m'Calculating coverage over regions ...'\u001b[0m\u001b[0;34m\u001b[0m\u001b[0m\n",
      "\u001b[0;32m/Users/Reza/anaconda/lib/python2.7/site-packages/pybedtools/bedtool.pyc\u001b[0m in \u001b[0;36m__init__\u001b[0;34m(self, fn, from_string, remote)\u001b[0m\n\u001b[1;32m    501\u001b[0m             \u001b[0;31m# (fixes #73)\u001b[0m\u001b[0;34m\u001b[0m\u001b[0;34m\u001b[0m\u001b[0m\n\u001b[1;32m    502\u001b[0m             \u001b[0;32melif\u001b[0m \u001b[0misinstance\u001b[0m\u001b[0;34m(\u001b[0m\u001b[0mfn\u001b[0m\u001b[0;34m,\u001b[0m \u001b[0;34m(\u001b[0m\u001b[0mlist\u001b[0m\u001b[0;34m,\u001b[0m \u001b[0mtuple\u001b[0m\u001b[0;34m)\u001b[0m\u001b[0;34m)\u001b[0m\u001b[0;34m:\u001b[0m\u001b[0;34m\u001b[0m\u001b[0m\n\u001b[0;32m--> 503\u001b[0;31m                 \u001b[0mfn\u001b[0m \u001b[0;34m=\u001b[0m \u001b[0mBedTool\u001b[0m\u001b[0;34m(\u001b[0m\u001b[0miter\u001b[0m\u001b[0;34m(\u001b[0m\u001b[0mfn\u001b[0m\u001b[0;34m)\u001b[0m\u001b[0;34m)\u001b[0m\u001b[0;34m.\u001b[0m\u001b[0msaveas\u001b[0m\u001b[0;34m(\u001b[0m\u001b[0;34m)\u001b[0m\u001b[0;34m.\u001b[0m\u001b[0mfn\u001b[0m\u001b[0;34m\u001b[0m\u001b[0m\n\u001b[0m\u001b[1;32m    504\u001b[0m \u001b[0;34m\u001b[0m\u001b[0m\n\u001b[1;32m    505\u001b[0m             \u001b[0;31m# Otherwise assume iterator, say an open file as from\u001b[0m\u001b[0;34m\u001b[0m\u001b[0;34m\u001b[0m\u001b[0m\n",
      "\u001b[0;32m/Users/Reza/anaconda/lib/python2.7/site-packages/pybedtools/bedtool.pyc\u001b[0m in \u001b[0;36mdecorated\u001b[0;34m(self, *args, **kwargs)\u001b[0m\n\u001b[1;32m    776\u001b[0m             \u001b[0;31m# this calls the actual method in the first place; *result* is\u001b[0m\u001b[0;34m\u001b[0m\u001b[0;34m\u001b[0m\u001b[0m\n\u001b[1;32m    777\u001b[0m             \u001b[0;31m# whatever you get back\u001b[0m\u001b[0;34m\u001b[0m\u001b[0;34m\u001b[0m\u001b[0m\n\u001b[0;32m--> 778\u001b[0;31m             \u001b[0mresult\u001b[0m \u001b[0;34m=\u001b[0m \u001b[0mmethod\u001b[0m\u001b[0;34m(\u001b[0m\u001b[0mself\u001b[0m\u001b[0;34m,\u001b[0m \u001b[0;34m*\u001b[0m\u001b[0margs\u001b[0m\u001b[0;34m,\u001b[0m \u001b[0;34m**\u001b[0m\u001b[0mkwargs\u001b[0m\u001b[0;34m)\u001b[0m\u001b[0;34m\u001b[0m\u001b[0m\n\u001b[0m\u001b[1;32m    779\u001b[0m \u001b[0;34m\u001b[0m\u001b[0m\n\u001b[1;32m    780\u001b[0m             \u001b[0;31m# add appropriate tags\u001b[0m\u001b[0;34m\u001b[0m\u001b[0;34m\u001b[0m\u001b[0m\n",
      "\u001b[0;32m/Users/Reza/anaconda/lib/python2.7/site-packages/pybedtools/bedtool.pyc\u001b[0m in \u001b[0;36msaveas\u001b[0;34m(self, fn, trackline, compressed)\u001b[0m\n\u001b[1;32m   2908\u001b[0m \u001b[0;34m\u001b[0m\u001b[0m\n\u001b[1;32m   2909\u001b[0m         fn = self._collapse(self, fn=fn, trackline=trackline,\n\u001b[0;32m-> 2910\u001b[0;31m                             compressed=compressed)\n\u001b[0m\u001b[1;32m   2911\u001b[0m         \u001b[0;32mreturn\u001b[0m \u001b[0mBedTool\u001b[0m\u001b[0;34m(\u001b[0m\u001b[0mfn\u001b[0m\u001b[0;34m)\u001b[0m\u001b[0;34m\u001b[0m\u001b[0m\n\u001b[1;32m   2912\u001b[0m \u001b[0;34m\u001b[0m\u001b[0m\n",
      "\u001b[0;32m/Users/Reza/anaconda/lib/python2.7/site-packages/pybedtools/bedtool.pyc\u001b[0m in \u001b[0;36m_collapse\u001b[0;34m(self, iterable, fn, trackline, compressed)\u001b[0m\n\u001b[1;32m   1216\u001b[0m         \u001b[0;32melse\u001b[0m\u001b[0;34m:\u001b[0m\u001b[0;34m\u001b[0m\u001b[0m\n\u001b[1;32m   1217\u001b[0m             \u001b[0;32mwith\u001b[0m \u001b[0mopen\u001b[0m\u001b[0;34m(\u001b[0m\u001b[0mfn\u001b[0m\u001b[0;34m,\u001b[0m \u001b[0;34m'w'\u001b[0m\u001b[0;34m)\u001b[0m \u001b[0;32mas\u001b[0m \u001b[0mout_\u001b[0m\u001b[0;34m:\u001b[0m\u001b[0;34m\u001b[0m\u001b[0m\n\u001b[0;32m-> 1218\u001b[0;31m                 \u001b[0;32mfor\u001b[0m \u001b[0mi\u001b[0m \u001b[0;32min\u001b[0m \u001b[0miterable\u001b[0m\u001b[0;34m:\u001b[0m\u001b[0;34m\u001b[0m\u001b[0m\n\u001b[0m\u001b[1;32m   1219\u001b[0m                     \u001b[0;32mif\u001b[0m \u001b[0misinstance\u001b[0m\u001b[0;34m(\u001b[0m\u001b[0mi\u001b[0m\u001b[0;34m,\u001b[0m \u001b[0;34m(\u001b[0m\u001b[0mlist\u001b[0m\u001b[0;34m,\u001b[0m \u001b[0mtuple\u001b[0m\u001b[0;34m)\u001b[0m\u001b[0;34m)\u001b[0m\u001b[0;34m:\u001b[0m\u001b[0;34m\u001b[0m\u001b[0m\n\u001b[1;32m   1220\u001b[0m                         \u001b[0mi\u001b[0m \u001b[0;34m=\u001b[0m \u001b[0mcreate_interval_from_list\u001b[0m\u001b[0;34m(\u001b[0m\u001b[0mlist\u001b[0m\u001b[0;34m(\u001b[0m\u001b[0mi\u001b[0m\u001b[0;34m)\u001b[0m\u001b[0;34m)\u001b[0m\u001b[0;34m\u001b[0m\u001b[0m\n",
      "\u001b[0;32m/Users/Reza/anaconda/lib/python2.7/site-packages/pybedtools/cbedtools.pyx\u001b[0m in \u001b[0;36mpybedtools.cbedtools.IntervalIterator.__next__ (pybedtools/cbedtools.cxx:11107)\u001b[0;34m()\u001b[0m\n\u001b[1;32m    781\u001b[0m         \u001b[0;31m# Otherwise assume list/tuple/iterable of fields\u001b[0m\u001b[0;34m\u001b[0m\u001b[0;34m\u001b[0m\u001b[0m\n\u001b[1;32m    782\u001b[0m         \u001b[0;32melse\u001b[0m\u001b[0;34m:\u001b[0m\u001b[0;34m\u001b[0m\u001b[0m\n\u001b[0;32m--> 783\u001b[0;31m             \u001b[0mfields\u001b[0m \u001b[0;34m=\u001b[0m \u001b[0mlist\u001b[0m\u001b[0;34m(\u001b[0m\u001b[0mline\u001b[0m\u001b[0;34m)\u001b[0m\u001b[0;34m\u001b[0m\u001b[0m\n\u001b[0m\u001b[1;32m    784\u001b[0m \u001b[0;34m\u001b[0m\u001b[0m\n\u001b[1;32m    785\u001b[0m         \u001b[0;31m# TODO: optimization: create_interval_from_list should have a version\u001b[0m\u001b[0;34m\u001b[0m\u001b[0;34m\u001b[0m\u001b[0m\n",
      "\u001b[0;31mTypeError\u001b[0m: 'PosixPath' object is not iterable"
     ]
    }
   ],
   "source": [
    "cl021.get_coverage(list_of_bam_files)"
   ]
  },
  {
   "cell_type": "code",
   "execution_count": null,
   "metadata": {
    "collapsed": true
   },
   "outputs": [],
   "source": []
  }
 ],
 "metadata": {
  "kernelspec": {
   "display_name": "Python 2",
   "language": "python",
   "name": "python2"
  }
 },
 "nbformat": 4,
 "nbformat_minor": 0
}
